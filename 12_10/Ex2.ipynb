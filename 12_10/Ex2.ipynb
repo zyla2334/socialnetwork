{
  "nbformat": 4,
  "nbformat_minor": 0,
  "metadata": {
    "colab": {
      "private_outputs": true,
      "provenance": []
    },
    "kernelspec": {
      "name": "python3",
      "display_name": "Python 3"
    },
    "language_info": {
      "name": "python"
    }
  },
  "cells": [
    {
      "cell_type": "code",
      "execution_count": null,
      "metadata": {
        "id": "-3u0oL3iZgtF"
      },
      "outputs": [],
      "source": [
        "#!pip install python-louvain"
      ]
    },
    {
      "cell_type": "code",
      "source": [
        "import networkx as nx\n",
        "import matplotlib.pyplot as plt\n",
        "from networkx.algorithms import community\n",
        "import numpy as np\n",
        "from networkx.algorithms import cuts\n",
        "import pandas as pd"
      ],
      "metadata": {
        "id": "logOw0jDZ2h0"
      },
      "execution_count": null,
      "outputs": []
    },
    {
      "cell_type": "code",
      "source": [
        "# Load karate graph\n",
        "G = nx.karate_club_graph()"
      ],
      "metadata": {
        "id": "9fq2VGeaZ6DM"
      },
      "execution_count": null,
      "outputs": []
    },
    {
      "cell_type": "code",
      "source": [
        "# Girvan-Newman\n",
        "girvan_newman_generator = community.girvan_newman(G)\n",
        "# best_modularity = -1\n",
        "# best_partition = None\n",
        "# while True:\n",
        "#     try:\n",
        "#         current_partition = next(girvan_newman_generator)\n",
        "#         current_modularity = community.modularity(G, current_partition)\n",
        "#         if current_modularity > best_modularity:\n",
        "#             best_modularity = current_modularity\n",
        "#             best_partition = current_partition\n",
        "#     except StopIteration:\n",
        "#         break\n",
        "# girvan_newman_partition = best_partition\n",
        "girvan_newman_partition = max(girvan_newman_generator, key=lambda partition: community.modularity(G, partition))"
      ],
      "metadata": {
        "id": "xrMy78mdaFJu"
      },
      "execution_count": null,
      "outputs": []
    },
    {
      "cell_type": "code",
      "source": [
        "# Label Propagation\n",
        "label_propagation_partition = community.label_propagation_communities(G)"
      ],
      "metadata": {
        "id": "WTmU1RS6a-eQ"
      },
      "execution_count": null,
      "outputs": []
    },
    {
      "cell_type": "code",
      "source": [
        "# Detect communities using different methods\n",
        "# Louvain (using alternative)\n",
        "louvain_partition = list(community.louvain_communities(G))"
      ],
      "metadata": {
        "id": "0tKzclxvbOSt"
      },
      "execution_count": null,
      "outputs": []
    },
    {
      "cell_type": "code",
      "source": [
        "# Add function to calculate metrics\n",
        "def calculate_metrics(G, communities):\n",
        "    metrics = {\n",
        "        'num_communities': len(communities),\n",
        "        'modularity': community.modularity(G, communities),\n",
        "        'conductance': np.mean([cuts.conductance(G, c) for c in communities]),\n",
        "        'normalized_cut': np.mean([cuts.normalized_cut_size(G, c) for c in communities])\n",
        "    }\n",
        "    return metrics"
      ],
      "metadata": {
        "id": "jQk-AsC_bWUI"
      },
      "execution_count": null,
      "outputs": []
    },
    {
      "cell_type": "code",
      "source": [
        "def create_community_node_colors(graph, communities):\n",
        "    node_colors = []\n",
        "    for node in graph:\n",
        "        for idx, comm in enumerate(communities):\n",
        "            if node in comm:\n",
        "                node_colors.append(plt.cm.jet(idx / len(communities)))\n",
        "                break\n",
        "    return node_colors\n",
        "\n",
        "def visualize_communities(graph, communities, title, ax):\n",
        "    node_colors = create_community_node_colors(graph, communities)\n",
        "    pos = nx.spring_layout(graph, k=0.3, iterations=50, seed=2)\n",
        "    modularity = community.modularity(graph, communities)\n",
        "\n",
        "    ax.set_title(f\"{title}\\n{len(communities)} communities (Modularity: {modularity:.3f})\")\n",
        "    nx.draw(graph, pos=pos, node_size=500, node_color=node_colors,\n",
        "            with_labels=True, font_size=10, ax=ax)"
      ],
      "metadata": {
        "id": "A6lz4jIUbtL6"
      },
      "execution_count": null,
      "outputs": []
    },
    {
      "cell_type": "code",
      "source": [
        "# Plot communities\n",
        "fig, axes = plt.subplots(1, 3, figsize=(20, 6))\n",
        "\n",
        "visualize_communities(G, louvain_partition, \"Louvain\", axes[0])\n",
        "visualize_communities(G, label_propagation_partition, \"Label Propagation\", axes[1])\n",
        "visualize_communities(G, girvan_newman_partition, \"Girvan-Newman\", axes[2])"
      ],
      "metadata": {
        "id": "_QuiQEqDb0fY"
      },
      "execution_count": null,
      "outputs": []
    },
    {
      "cell_type": "code",
      "source": [
        "# Create DataFrame for metrics comparison\n",
        "metrics_data = []\n",
        "algorithms = [\"Louvain\", \"Label Propagation\", \"Girvan-Newman\"]\n",
        "\n",
        "for partition, algorithm in zip([louvain_partition, label_propagation_partition, girvan_newman_partition], algorithms):\n",
        "    metrics = calculate_metrics(G, partition)\n",
        "    metrics_data.append({\n",
        "        'Algorithm': algorithm,\n",
        "        'Num Communities': metrics['num_communities'],\n",
        "        'Modularity': metrics['modularity'],\n",
        "        'Conductance': metrics['conductance'],\n",
        "        'Normalized Cut': metrics['normalized_cut']\n",
        "    })\n",
        "\n",
        "metrics_df = pd.DataFrame(metrics_data)\n",
        "\n",
        "# Plot the comparison of metrics\n",
        "fig, axes = plt.subplots(1, 2, figsize=(18, 7))\n",
        "\n",
        "# Bar chart for comparing 'Num Communities' between algorithms\n",
        "axes[0].bar(metrics_df['Algorithm'], metrics_df['Num Communities'], color=\"#8E44AD\")\n",
        "axes[0].set_title(\"Num Communities Comparison\")\n",
        "axes[0].set_xlabel(\"Algorithm\")\n",
        "axes[0].set_ylabel(\"Num Communities\")\n",
        "\n",
        "# Bar chart for comparing Modularity, Conductance, and Normalized Cut for each algorithm\n",
        "bar_width = 0.6  # Increase the width of the bars\n",
        "x = np.arange(len(metrics_df['Algorithm']))  # X positions for each algorithm\n",
        "\n",
        "axes[1].bar(x - bar_width/2, metrics_df['Modularity'], width=bar_width, label='Modularity', color=\"#F2D140\")\n",
        "axes[1].bar(x - bar_width/2, metrics_df['Conductance'], width=bar_width, label='Conductance', color=\"#FF6347\", bottom=metrics_df['Modularity'])\n",
        "axes[1].bar(x - bar_width/2, metrics_df['Normalized Cut'], width=bar_width, label='Normalized Cut', color=\"#48C9B0\", bottom=metrics_df['Modularity'] + metrics_df['Conductance'])\n",
        "\n",
        "axes[1].set_title(\"Comparison of Metrics\")\n",
        "axes[1].set_xlabel(\"Algorithm\")\n",
        "axes[1].set_ylabel(\"Value\")\n",
        "axes[1].set_xticks(x)\n",
        "axes[1].set_xticklabels(metrics_df['Algorithm'])\n",
        "axes[1].legend()\n",
        "\n",
        "plt.tight_layout()\n",
        "plt.show()"
      ],
      "metadata": {
        "id": "FtH1KLtOcW3K"
      },
      "execution_count": null,
      "outputs": []
    },
    {
      "cell_type": "markdown",
      "source": [
        "# Viết dưới dạng class và pipeline"
      ],
      "metadata": {
        "id": "KWmBMt9KdNVz"
      }
    },
    {
      "cell_type": "code",
      "source": [
        "import networkx as nx\n",
        "import matplotlib.pyplot as plt\n",
        "from networkx.algorithms import community\n",
        "import numpy as np\n",
        "from networkx.algorithms import cuts\n",
        "import pandas as pd"
      ],
      "metadata": {
        "id": "DlpntTjjmnPk"
      },
      "execution_count": null,
      "outputs": []
    },
    {
      "cell_type": "code",
      "source": [
        "class CommunityDetection:\n",
        "    def __init__(self, graph):\n",
        "        self.graph = graph\n",
        "        self.partitions = {}\n",
        "        self.metrics_df = None\n",
        "\n",
        "    def detect_communities(self):\n",
        "        # Girvan-Newman\n",
        "        girvan_newman_generator = community.girvan_newman(self.graph)\n",
        "        self.partitions['Girvan-Newman'] = max(\n",
        "            girvan_newman_generator, key=lambda partition: community.modularity(self.graph, partition)\n",
        "        )\n",
        "\n",
        "        # Label Propagation\n",
        "        self.partitions['Label Propagation'] = list(community.label_propagation_communities(self.graph))\n",
        "\n",
        "        # Louvain\n",
        "        self.partitions['Louvain'] = list(community.louvain_communities(self.graph))\n",
        "\n",
        "    def calculate_metrics(self):\n",
        "        def calculate_for_partition(partition):\n",
        "            return {\n",
        "                'Num Communities': len(partition),\n",
        "                'Modularity': community.modularity(self.graph, partition),\n",
        "                'Conductance': np.mean([cuts.conductance(self.graph, c) for c in partition]),\n",
        "                'Normalized Cut': np.mean([cuts.normalized_cut_size(self.graph, c) for c in partition])\n",
        "            }\n",
        "\n",
        "        metrics_data = []\n",
        "        for algorithm, partition in self.partitions.items():\n",
        "            metrics = calculate_for_partition(partition)\n",
        "            metrics['Algorithm'] = algorithm\n",
        "            metrics_data.append(metrics)\n",
        "\n",
        "        self.metrics_df = pd.DataFrame(metrics_data)\n",
        "\n",
        "    def visualize_communities(self, ax, communities, title):\n",
        "        pos = nx.spring_layout(self.graph, k=0.3, iterations=50, seed=2)\n",
        "        modularity = community.modularity(self.graph, communities)\n",
        "\n",
        "        node_colors = self._create_community_node_colors(communities)\n",
        "        ax.set_title(f\"{title}\\n{len(communities)} communities (Modularity: {modularity:.3f})\")\n",
        "        nx.draw(\n",
        "            self.graph, pos=pos, node_size=500, node_color=node_colors,\n",
        "            with_labels=True, font_size=10, ax=ax\n",
        "        )\n",
        "\n",
        "    def plot_results(self):\n",
        "        fig, axes = plt.subplots(1, 3, figsize=(20, 6))\n",
        "\n",
        "        for ax, (algorithm, partition) in zip(axes, self.partitions.items()):\n",
        "            self.visualize_communities(ax, partition, algorithm)\n",
        "\n",
        "        plt.tight_layout()\n",
        "        plt.show()\n",
        "\n",
        "    def plot_metrics(self):\n",
        "        fig, axes = plt.subplots(1, 2, figsize=(18, 7))\n",
        "\n",
        "        # Bar chart for comparing 'Num Communities'\n",
        "        axes[0].bar(self.metrics_df['Algorithm'], self.metrics_df['Num Communities'], color=\"#8E44AD\")\n",
        "        axes[0].set_title(\"Num Communities Comparison\")\n",
        "        axes[0].set_xlabel(\"Algorithm\")\n",
        "        axes[0].set_ylabel(\"Num Communities\")\n",
        "\n",
        "        # Bar chart for comparing Modularity, Conductance, and Normalized Cut\n",
        "        bar_width = 0.3\n",
        "        x = np.arange(len(self.metrics_df['Algorithm']))\n",
        "        axes[1].bar(x - bar_width, self.metrics_df['Modularity'], bar_width, label='Modularity', color=\"#F2D140\")\n",
        "        axes[1].bar(x, self.metrics_df['Conductance'], bar_width, label='Conductance', color=\"#FF6347\")\n",
        "        axes[1].bar(x + bar_width, self.metrics_df['Normalized Cut'], bar_width, label='Normalized Cut', color=\"#48C9B0\")\n",
        "\n",
        "        axes[1].set_title(\"Comparison of Metrics\")\n",
        "        axes[1].set_xlabel(\"Algorithm\")\n",
        "        axes[1].set_ylabel(\"Value\")\n",
        "        axes[1].set_xticks(x)\n",
        "        axes[1].set_xticklabels(self.metrics_df['Algorithm'])\n",
        "        axes[1].legend()\n",
        "\n",
        "        plt.tight_layout()\n",
        "        plt.show()\n",
        "\n",
        "    def _create_community_node_colors(self, communities):\n",
        "        node_colors = []\n",
        "        for node in self.graph:\n",
        "            for idx, comm in enumerate(communities):\n",
        "                if node in comm:\n",
        "                    node_colors.append(plt.cm.jet(idx / len(communities)))\n",
        "                    break\n",
        "        return node_colors\n",
        "\n",
        "\n",
        "# Hàm main để chạy\n",
        "def main():\n",
        "    # Load đồ thị Karate\n",
        "    G = nx.karate_club_graph()\n",
        "\n",
        "    # Khởi tạo class CommunityDetection\n",
        "    detector = CommunityDetection(G)\n",
        "\n",
        "    # Phát hiện các cụm\n",
        "    detector.detect_communities()\n",
        "\n",
        "    # Tính toán chỉ số\n",
        "    detector.calculate_metrics()\n",
        "\n",
        "    # Trực quan hóa cụm\n",
        "    detector.plot_results()\n",
        "\n",
        "    # Trực quan hóa các chỉ số\n",
        "    detector.plot_metrics()\n",
        "\n",
        "# Chạy chương trình\n",
        "if __name__ == \"__main__\":\n",
        "    main()"
      ],
      "metadata": {
        "id": "dariN1M2dONZ"
      },
      "execution_count": null,
      "outputs": []
    },
    {
      "cell_type": "markdown",
      "source": [
        "# Class đã thành công và xâY DỰNG PIPELINE"
      ],
      "metadata": {
        "id": "gS8DqgagmXcf"
      }
    },
    {
      "cell_type": "code",
      "source": [
        "import networkx as nx\n",
        "import matplotlib.pyplot as plt\n",
        "import pandas as pd\n",
        "import numpy as np\n",
        "from networkx.algorithms import community\n",
        "from networkx.algorithms import cuts\n",
        "\n",
        "\n",
        "class CommunityDetectionPipeline:\n",
        "    def __init__(self, graph):\n",
        "        self.graph = graph\n",
        "        self.partitions = {}\n",
        "        self.metrics_df = None\n",
        "\n",
        "    def run_pipeline(self):\n",
        "        \"\"\"Chạy toàn bộ pipeline từ phát hiện cộng đồng, tính toán chỉ số đến trực quan hóa.\"\"\"\n",
        "        self.detect_communities()\n",
        "        self.calculate_metrics()\n",
        "        self.plot_results()\n",
        "        self.plot_metrics()\n",
        "\n",
        "    def detect_communities(self):\n",
        "        \"\"\"Giai đoạn phát hiện cộng đồng.\"\"\"\n",
        "        girvan_newman_generator = community.girvan_newman(self.graph)\n",
        "        self.partitions['Girvan-Newman'] = max(\n",
        "            girvan_newman_generator, key=lambda partition: community.modularity(self.graph, partition)\n",
        "        )\n",
        "\n",
        "        self.partitions['Label Propagation'] = list(community.label_propagation_communities(self.graph))\n",
        "        self.partitions['Louvain'] = list(community.louvain_communities(self.graph))\n",
        "\n",
        "    def calculate_metrics(self):\n",
        "        \"\"\"Giai đoạn tính toán chỉ số cho các thuật toán phát hiện cộng đồng.\"\"\"\n",
        "        def calculate_for_partition(partition):\n",
        "            return {\n",
        "                'Num Communities': len(partition),\n",
        "                'Modularity': community.modularity(self.graph, partition),\n",
        "                'Conductance': np.mean([cuts.conductance(self.graph, c) for c in partition]),\n",
        "                'Normalized Cut': np.mean([cuts.normalized_cut_size(self.graph, c) for c in partition])\n",
        "            }\n",
        "\n",
        "        metrics_data = []\n",
        "        for algorithm, partition in self.partitions.items():\n",
        "            metrics = calculate_for_partition(partition)\n",
        "            metrics['Algorithm'] = algorithm\n",
        "            metrics_data.append(metrics)\n",
        "\n",
        "        self.metrics_df = pd.DataFrame(metrics_data)\n",
        "\n",
        "    def plot_results(self):\n",
        "        \"\"\"Giai đoạn trực quan hóa kết quả phát hiện cộng đồng.\"\"\"\n",
        "        fig, axes = plt.subplots(1, 3, figsize=(20, 6))\n",
        "        for ax, (algorithm, partition) in zip(axes, self.partitions.items()):\n",
        "            self._visualize_communities(ax, partition, algorithm)\n",
        "        plt.tight_layout()\n",
        "        plt.show()\n",
        "\n",
        "    def plot_metrics(self):\n",
        "        \"\"\"Giai đoạn trực quan hóa chỉ số so sánh giữa các thuật toán.\"\"\"\n",
        "        fig, axes = plt.subplots(1, 2, figsize=(18, 7))\n",
        "\n",
        "        axes[0].bar(self.metrics_df['Algorithm'], self.metrics_df['Num Communities'], color=\"#8E44AD\")\n",
        "        axes[0].set_title(\"Num Communities Comparison\")\n",
        "        axes[0].set_xlabel(\"Algorithm\")\n",
        "        axes[0].set_ylabel(\"Num Communities\")\n",
        "\n",
        "        bar_width = 0.3\n",
        "        x = np.arange(len(self.metrics_df['Algorithm']))\n",
        "        axes[1].bar(x - bar_width, self.metrics_df['Modularity'], bar_width, label='Modularity', color=\"#F2D140\")\n",
        "        axes[1].bar(x, self.metrics_df['Conductance'], bar_width, label='Conductance', color=\"#FF6347\")\n",
        "        axes[1].bar(x + bar_width, self.metrics_df['Normalized Cut'], bar_width, label='Normalized Cut', color=\"#48C9B0\")\n",
        "\n",
        "        axes[1].set_title(\"Comparison of Metrics\")\n",
        "        axes[1].set_xlabel(\"Algorithm\")\n",
        "        axes[1].set_ylabel(\"Value\")\n",
        "        axes[1].set_xticks(x)\n",
        "        axes[1].set_xticklabels(self.metrics_df['Algorithm'])\n",
        "        axes[1].legend()\n",
        "\n",
        "        plt.tight_layout()\n",
        "        plt.show()\n",
        "\n",
        "    def _visualize_communities(self, ax, communities, title):\n",
        "        \"\"\"Hàm phụ trợ để vẽ cộng đồng.\"\"\"\n",
        "        pos = nx.spring_layout(self.graph, k=0.3, iterations=50, seed=2)\n",
        "        modularity = community.modularity(self.graph, communities)\n",
        "        node_colors = self._create_community_node_colors(communities)\n",
        "\n",
        "        ax.set_title(f\"{title}\\n{len(communities)} communities (Modularity: {modularity:.3f})\")\n",
        "        nx.draw(\n",
        "            self.graph, pos=pos, node_size=500, node_color=node_colors,\n",
        "            with_labels=True, font_size=10, ax=ax\n",
        "        )\n",
        "\n",
        "    def _create_community_node_colors(self, communities):\n",
        "        \"\"\"Gán màu sắc cho các nút dựa trên cộng đồng.\"\"\"\n",
        "        node_colors = []\n",
        "        for node in self.graph:\n",
        "            for idx, comm in enumerate(communities):\n",
        "                if node in comm:\n",
        "                    node_colors.append(plt.cm.jet(idx / len(communities)))\n",
        "                    break\n",
        "        return node_colors\n",
        "\n",
        "\n",
        "def main():\n",
        "    \"\"\"Khởi chạy pipeline với đồ thị Karate Club.\"\"\"\n",
        "    # Load đồ thị Karate\n",
        "    G = nx.karate_club_graph()\n",
        "\n",
        "    # Tạo đối tượng pipeline và chạy\n",
        "    pipeline = CommunityDetectionPipeline(G)\n",
        "    pipeline.run_pipeline()\n",
        "\n",
        "\n",
        "if __name__ == \"__main__\":\n",
        "    main()\n"
      ],
      "metadata": {
        "id": "RfTQFRZAmY9M"
      },
      "execution_count": null,
      "outputs": []
    },
    {
      "cell_type": "markdown",
      "source": [
        "# Với ba thuật toán Girvan-Newman, label probagation và Louvain\n",
        "\n",
        "Nhận xét\n",
        "\n",
        "1. Louvain có chỉ số có modularity cao nhất hơn hai thuật toán Girvan-Newman và Label Propagation. Phân chia thành 4 mạng đối với Lovain, Girvan-Newman là 5 cộng đồng và cuối cùng lan truyền nhãn ở 3 cộng đồng\n",
        "\n",
        "Modularity:\n",
        "\n",
        "Girvan-Newman có modularity thấp hơn so với Louvain nhưng cao hơn Label Propagation.\n",
        "Louvain đạt modularity cao nhất, cho thấy nó tối ưu hóa tốt hơn việc chia nhỏ các cụm để tăng tính liên kết nội bộ của cộng đồng.\n",
        "Conductance:\n",
        "\n",
        "Girvan-Newman có conductance cao nhất, điều này gợi ý rằng các cụm tạo bởi thuật toán này có nhiều cạnh cắt giữa các cụm hơn.\n",
        "Louvain có conductance thấp hơn Label Propagation, chứng minh các cụm được phát hiện bởi Louvain tách biệt tốt hơn.\n",
        "Normalized Cut:\n",
        "\n",
        "Label Propagation và Louvain có normalized cut tương đối thấp, điều này phù hợp với tính chất phát hiện cộng đồng của hai thuật toán.\n",
        "Girvan-Newman lại có normalized cut cao, cho thấy thuật toán này chưa tối ưu trong việc tách biệt cụm."
      ],
      "metadata": {
        "id": "1BtUMoaeotac"
      }
    }
  ]
}