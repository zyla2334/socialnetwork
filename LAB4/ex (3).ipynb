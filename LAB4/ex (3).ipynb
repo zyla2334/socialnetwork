{
  "nbformat": 4,
  "nbformat_minor": 0,
  "metadata": {
    "colab": {
      "provenance": []
    },
    "kernelspec": {
      "name": "python3",
      "display_name": "Python 3"
    },
    "language_info": {
      "name": "python"
    }
  },
  "cells": [
    {
      "cell_type": "markdown",
      "source": [
        "Graph Neural Networks (GNN) - Tổng quan\n",
        "Định nghĩa\n",
        "GNN là một loại mạng nơron sâu được thiết kế để xử lý dữ liệu có cấu trúc đồ thị (graph), trong đó các nút đại diện cho thực thể và các cạnh biểu diễn mối quan hệ giữa chúng.\n",
        "\n",
        "1. Điểm mạnh\n",
        "\n",
        "Xử lý dữ liệu đồ thị: Có khả năng học biểu diễn của nút, cạnh và toàn bộ đồ thị.\n",
        "\n",
        "Khả năng tổng hợp thông tin: Trao đổi thông tin giữa các nút qua các tầng mạng.\n",
        "\n",
        "Ứng dụng rộng rãi: Hỗ trợ nhiều lĩnh vực có dữ liệu phức tạp.\n",
        "\n",
        "2. Điểm yếu\n",
        "\n",
        "Khả năng mở rộng: Khó xử lý đồ thị lớn với nhiều nút và cạnh.\n",
        "\n",
        "Over-smoothing: Trạng thái của các nút có thể trở nên đồng nhất sau nhiều lớp GNN.\n",
        "\n",
        "Tính toán phức tạp: Yêu cầu tài nguyên lớn để huấn luyện trên đồ thị lớn.\n",
        "\n",
        "3.\n",
        "Ứng dụng\n",
        "\n",
        "Mạng xã hội: Dự đoán mối quan hệ, phát hiện cộng đồng.\n",
        "\n",
        "Hệ thống khuyến nghị: Đề xuất sản phẩm dựa trên quan hệ giữa người dùng và sản phẩm.\n",
        "\n",
        "Sinh học: Phân tích cấu trúc protein, dự đoán tương tác phân tử.\n",
        "\n",
        "Giao thông: Tối ưu hóa luồng giao thông và định tuyến.\n",
        "\n",
        "4. Tóm tắt:\n",
        "\n",
        "Mạng Nơ-ron Đồ Thị (GNN) là mô hình học máy được thiết kế để xử lý dữ liệu đồ thị, nơi các đỉnh và cạnh biểu diễn đối tượng và mối quan hệ. GNN truyền và kết hợp thông tin từ các đỉnh láng giềng để học đặc trưng và cấu trúc đồ thị, giúp nắm bắt các mối quan hệ phức tạp. Mô hình này hiệu quả trong các nhiệm vụ như phân loại nút, phân loại đồ thị, dự đoán liên kết và nhúng đồ thị. GNN có nhiều ứng dụng, từ phân tích mạng xã hội, hệ thống gợi ý đến phát hiện các hiện tượng trong hệ thống phức tạp."
      ],
      "metadata": {
        "id": "nUUWbluKRxCu"
      }
    },
    {
      "cell_type": "code",
      "source": [
        "# Tiếp theo là dùng GCN"
      ],
      "metadata": {
        "id": "RPVpF-ibRxlk"
      },
      "execution_count": null,
      "outputs": []
    },
    {
      "cell_type": "code",
      "source": [
        "!pip install torch-geometric"
      ],
      "metadata": {
        "colab": {
          "base_uri": "https://localhost:8080/"
        },
        "id": "1QyTImjDfgde",
        "outputId": "4f9edc93-7fb4-4c95-b438-91523b2d0772"
      },
      "execution_count": 2,
      "outputs": [
        {
          "output_type": "stream",
          "name": "stdout",
          "text": [
            "Collecting torch-geometric\n",
            "  Downloading torch_geometric-2.6.1-py3-none-any.whl.metadata (63 kB)\n",
            "\u001b[?25l     \u001b[90m━━━━━━━━━━━━━━━━━━━━━━━━━━━━━━━━━━━━━━━━\u001b[0m \u001b[32m0.0/63.1 kB\u001b[0m \u001b[31m?\u001b[0m eta \u001b[36m-:--:--\u001b[0m\r\u001b[2K     \u001b[90m━━━━━━━━━━━━━━━━━━━━━━━━━━━━━━━━━━━━━━━━\u001b[0m \u001b[32m63.1/63.1 kB\u001b[0m \u001b[31m2.4 MB/s\u001b[0m eta \u001b[36m0:00:00\u001b[0m\n",
            "\u001b[?25hRequirement already satisfied: aiohttp in /usr/local/lib/python3.10/dist-packages (from torch-geometric) (3.11.10)\n",
            "Requirement already satisfied: fsspec in /usr/local/lib/python3.10/dist-packages (from torch-geometric) (2024.10.0)\n",
            "Requirement already satisfied: jinja2 in /usr/local/lib/python3.10/dist-packages (from torch-geometric) (3.1.4)\n",
            "Requirement already satisfied: numpy in /usr/local/lib/python3.10/dist-packages (from torch-geometric) (1.26.4)\n",
            "Requirement already satisfied: psutil>=5.8.0 in /usr/local/lib/python3.10/dist-packages (from torch-geometric) (5.9.5)\n",
            "Requirement already satisfied: pyparsing in /usr/local/lib/python3.10/dist-packages (from torch-geometric) (3.2.0)\n",
            "Requirement already satisfied: requests in /usr/local/lib/python3.10/dist-packages (from torch-geometric) (2.32.3)\n",
            "Requirement already satisfied: tqdm in /usr/local/lib/python3.10/dist-packages (from torch-geometric) (4.66.6)\n",
            "Requirement already satisfied: aiohappyeyeballs>=2.3.0 in /usr/local/lib/python3.10/dist-packages (from aiohttp->torch-geometric) (2.4.4)\n",
            "Requirement already satisfied: aiosignal>=1.1.2 in /usr/local/lib/python3.10/dist-packages (from aiohttp->torch-geometric) (1.3.1)\n",
            "Requirement already satisfied: async-timeout<6.0,>=4.0 in /usr/local/lib/python3.10/dist-packages (from aiohttp->torch-geometric) (4.0.3)\n",
            "Requirement already satisfied: attrs>=17.3.0 in /usr/local/lib/python3.10/dist-packages (from aiohttp->torch-geometric) (24.2.0)\n",
            "Requirement already satisfied: frozenlist>=1.1.1 in /usr/local/lib/python3.10/dist-packages (from aiohttp->torch-geometric) (1.5.0)\n",
            "Requirement already satisfied: multidict<7.0,>=4.5 in /usr/local/lib/python3.10/dist-packages (from aiohttp->torch-geometric) (6.1.0)\n",
            "Requirement already satisfied: propcache>=0.2.0 in /usr/local/lib/python3.10/dist-packages (from aiohttp->torch-geometric) (0.2.1)\n",
            "Requirement already satisfied: yarl<2.0,>=1.17.0 in /usr/local/lib/python3.10/dist-packages (from aiohttp->torch-geometric) (1.18.3)\n",
            "Requirement already satisfied: MarkupSafe>=2.0 in /usr/local/lib/python3.10/dist-packages (from jinja2->torch-geometric) (3.0.2)\n",
            "Requirement already satisfied: charset-normalizer<4,>=2 in /usr/local/lib/python3.10/dist-packages (from requests->torch-geometric) (3.4.0)\n",
            "Requirement already satisfied: idna<4,>=2.5 in /usr/local/lib/python3.10/dist-packages (from requests->torch-geometric) (3.10)\n",
            "Requirement already satisfied: urllib3<3,>=1.21.1 in /usr/local/lib/python3.10/dist-packages (from requests->torch-geometric) (2.2.3)\n",
            "Requirement already satisfied: certifi>=2017.4.17 in /usr/local/lib/python3.10/dist-packages (from requests->torch-geometric) (2024.8.30)\n",
            "Requirement already satisfied: typing-extensions>=4.1.0 in /usr/local/lib/python3.10/dist-packages (from multidict<7.0,>=4.5->aiohttp->torch-geometric) (4.12.2)\n",
            "Downloading torch_geometric-2.6.1-py3-none-any.whl (1.1 MB)\n",
            "\u001b[2K   \u001b[90m━━━━━━━━━━━━━━━━━━━━━━━━━━━━━━━━━━━━━━━━\u001b[0m \u001b[32m1.1/1.1 MB\u001b[0m \u001b[31m20.7 MB/s\u001b[0m eta \u001b[36m0:00:00\u001b[0m\n",
            "\u001b[?25hInstalling collected packages: torch-geometric\n",
            "Successfully installed torch-geometric-2.6.1\n"
          ]
        }
      ]
    },
    {
      "cell_type": "markdown",
      "source": [
        "# Dữ liệu được sử dụng karate club"
      ],
      "metadata": {
        "id": "AqOlIFRQkC_b"
      }
    },
    {
      "cell_type": "code",
      "source": [
        "import torch\n",
        "import torch.nn.functional as F\n",
        "from torch_geometric.datasets import KarateClub\n",
        "from torch_geometric.nn import GCNConv\n",
        "from torch_geometric.utils import train_test_split_edges, negative_sampling\n",
        "from sklearn.metrics import accuracy_score, precision_score, recall_score, f1_score, roc_auc_score\n",
        "\n",
        "# Tải dataset Karate Club\n",
        "dataset = KarateClub()\n",
        "data = dataset[0]\n",
        "\n",
        "# Tạo dữ liệu cho bài toán dự đoán liên kết\n",
        "data = train_test_split_edges(data)  # Tự động tạo tập train, val, test cho các liên kết\n",
        "\n",
        "# Tạo các liên kết âm cho tập huấn luyện\n",
        "data.train_neg_edge_index = negative_sampling(\n",
        "    edge_index=data.train_pos_edge_index,\n",
        "    num_nodes=data.num_nodes\n",
        ")\n",
        "\n",
        "# Xây dựng mô hình GCN\n",
        "class GCN(torch.nn.Module):\n",
        "    def __init__(self, in_channels, out_channels):\n",
        "        super(GCN, self).__init__()\n",
        "        self.conv1 = GCNConv(in_channels, 16)  # Lớp GCN đầu tiên\n",
        "        self.conv2 = GCNConv(16, out_channels)  # Lớp GCN thứ hai\n",
        "\n",
        "    def forward(self, x, edge_index):\n",
        "        x = self.conv1(x, edge_index)  # Tích chập đầu tiên\n",
        "        x = F.relu(x)                  # Hàm kích hoạt ReLU\n",
        "        x = self.conv2(x, edge_index)  # Tích chập thứ hai\n",
        "        return x\n",
        "\n",
        "# Hàm dự đoán liên kết (dot product giữa các nút)\n",
        "def link_prediction(z, edge_label_index):\n",
        "    return (z[edge_label_index[0]] * z[edge_label_index[1]]).sum(dim=1)\n",
        "\n",
        "# Khởi tạo mô hình và tham số\n",
        "device = torch.device('cuda' if torch.cuda.is_available() else 'cpu')\n",
        "model = GCN(data.num_features, 16).to(device)\n",
        "data = data.to(device)\n",
        "optimizer = torch.optim.Adam(model.parameters(), lr=0.01)\n",
        "\n",
        "# Huấn luyện mô hình\n",
        "model.train()\n",
        "for epoch in range(200):\n",
        "    optimizer.zero_grad()\n",
        "    z = model(data.x, data.train_pos_edge_index)  # Biểu diễn nút học được\n",
        "    pos_pred = link_prediction(z, data.train_pos_edge_index)  # Dự đoán liên kết dương\n",
        "    neg_pred = link_prediction(z, data.train_neg_edge_index)  # Dự đoán liên kết âm\n",
        "\n",
        "    # Tính loss\n",
        "    loss = F.binary_cross_entropy_with_logits(\n",
        "        torch.cat([pos_pred, neg_pred]),\n",
        "        torch.cat([torch.ones(pos_pred.size(0)), torch.zeros(neg_pred.size(0))]).to(device)\n",
        "    )\n",
        "    loss.backward()\n",
        "    optimizer.step()\n",
        "\n",
        "    if epoch % 20 == 0:\n",
        "        print(f\"Epoch {epoch}, Loss: {loss.item():.4f}\")\n",
        "\n",
        "# Đánh giá mô hình\n",
        "model.eval()\n",
        "with torch.no_grad():\n",
        "    z = model(data.x, data.train_pos_edge_index)\n",
        "    pos_pred = torch.sigmoid(link_prediction(z, data.test_pos_edge_index))\n",
        "    neg_pred = torch.sigmoid(link_prediction(z, data.test_neg_edge_index))\n",
        "\n",
        "    # Tính các chỉ số đánh giá\n",
        "    y_true = torch.cat([torch.ones(pos_pred.size(0)), torch.zeros(neg_pred.size(0))]).cpu().numpy()\n",
        "    y_pred = torch.cat([pos_pred, neg_pred]).cpu().numpy()\n",
        "\n",
        "    # Tính độ chính xác\n",
        "    acc = accuracy_score(y_true, (y_pred > 0.5).astype(int))\n",
        "\n",
        "    # Tính độ chính xác, recall, F1-score\n",
        "    precision = precision_score(y_true, (y_pred > 0.5).astype(int))\n",
        "    recall = recall_score(y_true, (y_pred > 0.5).astype(int))\n",
        "    f1 = f1_score(y_true, (y_pred > 0.5).astype(int))\n",
        "\n",
        "    # Tính AUC-ROC\n",
        "    auc = roc_auc_score(y_true, y_pred)\n",
        "\n",
        "    print(f\"Độ chính xác: {acc:.4f}\")\n",
        "    print(f\"Precision: {precision:.4f}\")\n",
        "    print(f\"Recall: {recall:.4f}\")\n",
        "    print(f\"F1-score: {f1:.4f}\")\n",
        "    print(f\"AUC-ROC: {auc:.4f}\")\n"
      ],
      "metadata": {
        "colab": {
          "base_uri": "https://localhost:8080/"
        },
        "id": "DQ6r8ozuSlpx",
        "outputId": "68a6714f-8a16-4c17-ecdd-14eaa9b55d82"
      },
      "execution_count": 5,
      "outputs": [
        {
          "output_type": "stream",
          "name": "stderr",
          "text": [
            "/usr/local/lib/python3.10/dist-packages/torch_geometric/deprecation.py:26: UserWarning: 'train_test_split_edges' is deprecated, use 'transforms.RandomLinkSplit' instead\n",
            "  warnings.warn(out)\n"
          ]
        },
        {
          "output_type": "stream",
          "name": "stdout",
          "text": [
            "Epoch 0, Loss: 0.6901\n",
            "Epoch 20, Loss: 0.5080\n",
            "Epoch 40, Loss: 0.3968\n",
            "Epoch 60, Loss: 0.3621\n",
            "Epoch 80, Loss: 0.3277\n",
            "Epoch 100, Loss: 0.2843\n",
            "Epoch 120, Loss: 0.2343\n",
            "Epoch 140, Loss: 0.1856\n",
            "Epoch 160, Loss: 0.1375\n",
            "Epoch 180, Loss: 0.1023\n",
            "Độ chính xác: 0.6429\n",
            "Precision: 0.6667\n",
            "Recall: 0.5714\n",
            "F1-score: 0.6154\n",
            "AUC-ROC: 0.6531\n"
          ]
        }
      ]
    },
    {
      "cell_type": "markdown",
      "source": [
        "Method       AUC  Accuracy  Precision    Recall  F1-score\n",
        "0         Common Neighbors  0.493333  0.400000   0.400000  0.400000  0.400000\n",
        "1      Jaccard Coefficient  0.422222  0.400000   0.400000  0.400000  0.400000\n",
        "2              Adamic-Adar  0.515556  0.400000   0.400000  0.400000  0.400000\n",
        "3  Preferential Attachment  0.702222  0.466667   0.481481  0.866667  0.619048\n",
        "4            Random Forest  0.777778  0.555556   0.400000  0.666667  0.500000\n",
        "\n",
        "\n",
        "\n",
        "\n",
        "Bảng ở Lab4_02"
      ],
      "metadata": {
        "id": "CwfjKDKqj4Ph"
      }
    },
    {
      "cell_type": "markdown",
      "source": [
        "<!-- Method       AUC  Accuracy  Precision    Recall  F1-score\n",
        "0         Common Neighbors  0.493333  0.400000   0.400000  0.400000  0.400000\n",
        "1      Jaccard Coefficient  0.422222  0.400000   0.400000  0.400000  0.400000\n",
        "2              Adamic-Adar  0.515556  0.400000   0.400000  0.400000  0.400000\n",
        "3  Preferential Attachment  0.702222  0.466667   0.481481  0.866667  0.619048\n",
        "4            Random Forest  0.777778  0.555556   0.400000  0.666667  0.500000 -->"
      ],
      "metadata": {
        "id": "CNsZkDpvjzDF"
      }
    },
    {
      "cell_type": "code",
      "source": [
        "# Nhìn vào kết quả của mô hình GCN và các phương pháp khác, chúng ta có thể rút ra một số nhận xét như sau:\n",
        "\n",
        "# So với các phương pháp khác:\n",
        "# AUC-ROC:\n",
        "\n",
        "# Mô hình GCN có AUC-ROC là 0.6531, cao hơn các phương pháp Common Neighbors, Jaccard Coefficient, Adamic-Adar và Random Forest nhưng thấp hơn phương pháp Preferential Attachment (AUC-ROC = 0.7022).\n",
        "# AUC-ROC là chỉ số quan trọng đo lường khả năng phân biệt giữa các lớp (liên kết dương và âm). Mặc dù GCN không đạt hiệu suất tốt nhất, nhưng kết quả của nó vẫn cho thấy khả năng phân biệt khá tốt so với các phương pháp khác.\n",
        "# Độ chính xác (Accuracy):\n",
        "\n",
        "# Mô hình GCN đạt độ chính xác 0.6429, tốt hơn các phương pháp Common Neighbors (0.4000), Jaccard Coefficient (0.4000), Adamic-Adar (0.4000) và Random Forest (0.5556). Tuy nhiên, nó không vượt qua Preferential Attachment (0.4667).\n",
        "# Accuracy là chỉ số đo lường tỷ lệ đúng trên tổng số mẫu. Mô hình GCN cho thấy hiệu suất khá mạnh, đặc biệt so với các phương pháp không học máy.\n",
        "# Precision và Recall:\n",
        "\n",
        "# Precision của GCN là 0.6667, tương đối cao, cho thấy rằng khi mô hình dự đoán một liên kết là dương, nó đúng khá nhiều lần.\n",
        "# Recall của GCN là 0.5714, nghĩa là mô hình có thể phát hiện khoảng 57% các liên kết dương thực tế.\n",
        "# Precision và Recall của GCN đều tốt hơn các phương pháp Common Neighbors, Jaccard Coefficient, Adamic-Adar và Random Forest (trừ Preferential Attachment). Tuy nhiên, Recall thấp hơn một chút so với phương pháp Preferential Attachment (0.8667), cho thấy GCN có thể chưa phát hiện đầy đủ tất cả các liên kết dương.\n",
        "# F1-score:\n",
        "\n",
        "# F1-score của GCN là 0.6154, khá cao và cho thấy sự cân bằng tốt giữa Precision và Recall. Mô hình GCN đạt điểm F1 cao hơn các phương pháp như Common Neighbors, Jaccard Coefficient, Adamic-Adar, và Random Forest (trừ Preferential Attachment, với F1 = 0.619048).\n",
        "# F1-score là chỉ số tổng hợp giữa Precision và Recall, cho thấy mô hình GCN có khả năng cân bằng tốt giữa việc giảm số lượng dự đoán sai (false positives) và việc phát hiện các liên kết dương (recall).\n",
        "# Tổng kết:\n",
        "# Mô hình GCN có hiệu suất tổng thể vượt trội so với hầu hết các phương pháp dựa trên các đặc trưng đồ thị như Common Neighbors, Jaccard Coefficient và Adamic-Adar.\n",
        "# Nó cũng cho thấy khả năng phân biệt và dự đoán tốt hơn so với Random Forest trong bài toán dự đoán liên kết.\n",
        "# Preferential Attachment vẫn là phương pháp có hiệu suất tốt nhất, đặc biệt là với AUC-ROC cao và Recall mạnh mẽ.\n",
        "# Mặc dù không đạt được điểm cao nhất ở mọi chỉ số, GCN vẫn cho thấy tiềm năng mạnh mẽ khi học từ các đặc trưng của đồ thị và có thể vượt trội trong các ứng dụng lớn hơn hoặc phức tạp hơn."
      ],
      "metadata": {
        "id": "XeZFmS0JbSLC"
      },
      "execution_count": 6,
      "outputs": []
    },
    {
      "cell_type": "code",
      "source": [],
      "metadata": {
        "id": "6IaBvxNcj5_1"
      },
      "execution_count": null,
      "outputs": []
    }
  ]
}