{
 "cells": [
  {
   "cell_type": "code",
   "execution_count": 1,
   "metadata": {},
   "outputs": [],
   "source": [
    "#!pip install facebook-sdk"
   ]
  },
  {
   "cell_type": "code",
   "execution_count": 14,
   "metadata": {},
   "outputs": [],
   "source": [
    "import facebook\n",
    "import json\n",
    "from datetime import datetime\n",
    "import time\n",
    "from collections import defaultdict\n",
    "import pandas as pd"
   ]
  },
  {
   "cell_type": "code",
   "execution_count": 16,
   "metadata": {},
   "outputs": [],
   "source": [
    "class FacebookCollector:\n",
    "    def __init__(self, access_token):\n",
    "        try:\n",
    "            self.access_token = access_token\n",
    "            self.graph = facebook.GraphAPI(access_token)\n",
    "        except Exception as e:\n",
    "            print(f\"Initialization Error: {e}\")\n",
    "\n",
    "    def check_token_validity(self):\n",
    "        try:\n",
    "            me = self.graph.get_object(\"me\", fields=\"id,name\")\n",
    "            print(\"Token is valid\")\n",
    "            return True\n",
    "        except Exception as e:\n",
    "            print(f\"Token is invalid: {e}\")\n",
    "            return False\n",
    "    \n",
    "    def collect_data(self, limit=5):\n",
    "        try:\n",
    "            fields = (\n",
    "                'id'\n",
    "                ',message'\n",
    "                ',comments.limit(100).summary(true)'\n",
    "                '{created_time,from{id,name},message,reactions}'\n",
    "                ',reactions.limit(100).summary(true)'\n",
    "                ',{id,type,name}'\n",
    "                ',share'\n",
    "                ',type'\n",
    "            )\n",
    "            posts = self.graph.get_object(\n",
    "                \"me/feed\"\n",
    "            )\n",
    "            for post in posts.get('data', []):\n",
    "                print('-----------------')\n",
    "                print(\"id\")\n",
    "                print(post.get('id'))\n",
    "                print(\"message\")\n",
    "                print(post.get('message'))\n",
    "                print('created_time')\n",
    "                print(post.get('created_time'))\n",
    "                print('-----------------')\n",
    "            return posts\n",
    "        except Exception as e:\n",
    "            pass\n",
    "        \n",
    "    def json_to_excel(self, my_json, excel_file=None):\n",
    "        try:\n",
    "            posts = []\n",
    "            for post in my_json['data']:\n",
    "                post_data = {\n",
    "                    'id': post.get('id', ''),\n",
    "                    'message': post.get('message', ''),\n",
    "                    'created_time': post.get('created_time', '')\n",
    "                }\n",
    "                posts.append(post_data)\n",
    "\n",
    "            df = pd.DataFrame(posts)\n",
    "            df['created_time'] = pd.to_datetime(df['created_time']).dt.strftime('%Y-%m-%d %H:%M:%S')\n",
    "\n",
    "            if not excel_file:\n",
    "                timestamp = datetime.now().strftime('%Y%m%d%H%M%S')\n",
    "                excel_file = f'facebook_posts_{timestamp}.csv'\n",
    "            df.to_csv(excel_file, index=False)\n",
    "            print(f\"Data saved to {excel_file}\")\n",
    "            return excel_file\n",
    "        except Exception as e:\n",
    "            print(f\"Error exporting to Excel: {e}\")\n",
    "            return None\n",
    "\n"
   ]
  },
  {
   "cell_type": "code",
   "execution_count": 17,
   "metadata": {},
   "outputs": [
    {
     "name": "stdout",
     "output_type": "stream",
     "text": [
      "<__main__.FacebookCollector object at 0x000001B0125F3310>\n",
      "Token is invalid: Error validating access token: Session has expired on Monday, 25-Nov-24 19:00:00 PST. The current time is Tuesday, 26-Nov-24 04:57:02 PST.\n"
     ]
    }
   ],
   "source": [
    "def main():\n",
    "    ACCESS_TOKEN= 'EAAM4HEZCvwSUBO6pAP9MTDdXgqZBKgO9laJqeTnSBZAZBjxLmD8BJreyWauQ7xzzT3dqrmRCQilmSEmca4kUzxgWRi9nPtwKdFX02DPWoWNrWRjdx4U0mDb4Bc9ouO2KAZCxDRi51sWFcKaBbW13nfZBSnMzSkVyNqhuEty4SJ9rc1QbZBlV9DHH1TDN6sFFB4RroyMCz7UGNPwaHsLs6MZD'\n",
    "    collector = FacebookCollector(ACCESS_TOKEN)\n",
    "    print(collector)    \n",
    "    if(collector.check_token_validity()):\n",
    "        data = collector.collect_data(limit = 2)\n",
    "        collector.json_to_excel(data)\n",
    "        \n",
    "        \n",
    "        \n",
    "if __name__ == \"__main__\":\n",
    "    main()"
   ]
  }
 ],
 "metadata": {
  "kernelspec": {
   "display_name": "base",
   "language": "python",
   "name": "python3"
  },
  "language_info": {
   "codemirror_mode": {
    "name": "ipython",
    "version": 3
   },
   "file_extension": ".py",
   "mimetype": "text/x-python",
   "name": "python",
   "nbconvert_exporter": "python",
   "pygments_lexer": "ipython3",
   "version": "3.11.5"
  }
 },
 "nbformat": 4,
 "nbformat_minor": 2
}
